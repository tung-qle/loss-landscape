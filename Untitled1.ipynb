{
 "cells": [
  {
   "cell_type": "code",
   "execution_count": 1,
   "id": "835d15f8-4b1c-4802-8254-21f587e298ed",
   "metadata": {},
   "outputs": [],
   "source": [
    "import torch"
   ]
  },
  {
   "cell_type": "code",
   "execution_count": 6,
   "id": "5c020d76-e35e-49e2-ac9b-bcf61ed4697e",
   "metadata": {},
   "outputs": [
    {
     "name": "stdout",
     "output_type": "stream",
     "text": [
      "python: can't open file '/home/tung/Postdoc1/loss-landscape/notebooks/plot_1D.py': [Errno 2] No such file or directory\n"
     ]
    }
   ],
   "source": [
    "! python plot_1D.py --surf_file ../cifar10/trained_nets/resnet56/resnet56_sgd_lr=0.1_bs=128_wd=0.0005/model_300.t7_weights_xignore=biasbn_xnorm=filter.h5_[-10.0,10.0,500].h5 \\\n",
    "    --log --xmin -10 --xmax 10 --loss_max 10e20"
   ]
  },
  {
   "cell_type": "code",
   "execution_count": null,
   "id": "4c8d5cd5-4e8c-4fde-b9a3-b4a4edb3d56f",
   "metadata": {},
   "outputs": [],
   "source": []
  }
 ],
 "metadata": {
  "kernelspec": {
   "display_name": "Python 3 (ipykernel)",
   "language": "python",
   "name": "python3"
  },
  "language_info": {
   "codemirror_mode": {
    "name": "ipython",
    "version": 3
   },
   "file_extension": ".py",
   "mimetype": "text/x-python",
   "name": "python",
   "nbconvert_exporter": "python",
   "pygments_lexer": "ipython3",
   "version": "3.12.2"
  }
 },
 "nbformat": 4,
 "nbformat_minor": 5
}
